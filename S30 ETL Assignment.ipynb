{
 "cells": [
  {
   "cell_type": "code",
   "execution_count": 2,
   "id": "6d255c7f",
   "metadata": {},
   "outputs": [
    {
     "name": "stdout",
     "output_type": "stream",
     "text": [
      "[('sqlite_sequence',), ('sales',), ('orders',), ('items',), ('customers',)]\n"
     ]
    }
   ],
   "source": [
    "import sqlite3\n",
    "import pandas as pd\n",
    "\n",
    "# Connect to the SQLite database\n",
    "conn = sqlite3.connect('S30 ETL Assignment.db')\n",
    "cursor = conn.cursor()\n",
    "\n",
    "# Get table names from DB\n",
    "table_names= \"\"\"\n",
    "SELECT name FROM sqlite_master WHERE type='table';\n",
    "\"\"\"\n",
    "cursor.execute(table_names)\n",
    "tables_list = cursor.fetchall()\n",
    "print(tables_list)\n",
    "\n",
    "# Result Query\n",
    "\n",
    "sql = \"\"\"\n",
    "select c.customer_id,c.age,o.item_id,sum(o.quantity) as sum from customers c \n",
    "join sales s on c.customer_id = s.customer_id\n",
    "join orders o on s.sales_id = o.sales_id\n",
    "join items i on o.item_id = i.item_id\n",
    "where c.age >=18 and c.age <= 35 and quantity is not null\n",
    "group by 1,2,3 \n",
    "\"\"\"\n",
    "\n",
    "cursor.execute(sql)\n",
    "result = cursor.fetchall()\n",
    "\n",
    "df = pd.DataFrame(result,columns = ['customer_id','age','item_id','Total quantity'])\n",
    "df['Total quantity'] = df['Total quantity'].astype(int)\n",
    "df.to_csv('output_file.csv',sep = ';',index = False)\n",
    "\n",
    "# Close the database connection\n",
    "conn.close()\n"
   ]
  },
  {
   "cell_type": "code",
   "execution_count": 3,
   "id": "ff39ba8f",
   "metadata": {},
   "outputs": [],
   "source": [
    "# Pandas Solution\n",
    "\n",
    "# Connect to the SQLite database\n",
    "conn = sqlite3.connect('S30 ETL Assignment.db')\n",
    "cursor = conn.cursor()\n",
    "\n",
    "# Customers DataFrame\n",
    "customers_sql = \"\"\"\n",
    "select * from customers\n",
    "\"\"\"\n",
    "cursor.execute(customers_sql)\n",
    "customers_df = pd.DataFrame(cursor.fetchall(),columns = ['customer_id','age'])\n",
    "\n",
    "# Sales DataFrame\n",
    "sales_sql = \"\"\"\n",
    "select * from sales;\n",
    "\"\"\"\n",
    "cursor.execute(sales_sql)\n",
    "sales_df = pd.DataFrame(cursor.fetchall(),columns = ['sales_id','customer_id'])\n",
    "\n",
    "# Orders DataFrame\n",
    "orders_sql = \"\"\"\n",
    "select * from orders;\n",
    "\"\"\"\n",
    "cursor.execute(orders_sql)\n",
    "orders_df = pd.DataFrame(cursor.fetchall(),columns = ['order_id','sales_id','item_id','quantity'])\n",
    "\n",
    "# Items DataFrame\n",
    "items_sql = \"\"\"\n",
    "select * from items;\n",
    "\"\"\"\n",
    "cursor.execute(items_sql)\n",
    "items_df  = pd.DataFrame(cursor.fetchall(),columns = ['item_id','item_name'])\n",
    "\n",
    "joined_df = customers_df.merge(sales_df,on='customer_id').merge(orders_df,on='sales_id').merge(items_df,on='item_id')\n",
    "joined_df = joined_df[['customer_id', 'age', 'item_id','quantity']]\n",
    "filtered_df = joined_df[(joined_df['quantity'].notnull()) & (joined_df['age'].between(18, 35))]\n",
    "result_df = filtered_df.groupby(['customer_id', 'age', 'item_id'])['quantity'].sum().reset_index()\n",
    "\n",
    "# Rename the sum column to 'total_quantity' (optional)\n",
    "result_df = result_df.rename(columns={'quantity': 'Total quantity'})\n",
    "result_df['Total quantity'] = df['Total quantity'].astype(int)\n",
    "result_df.to_csv('output_file_pandas.csv',sep = ';',index = False)"
   ]
  },
  {
   "cell_type": "code",
   "execution_count": null,
   "id": "37d92cef",
   "metadata": {},
   "outputs": [],
   "source": []
  }
 ],
 "metadata": {
  "kernelspec": {
   "display_name": "Python 3 (ipykernel)",
   "language": "python",
   "name": "python3"
  },
  "language_info": {
   "codemirror_mode": {
    "name": "ipython",
    "version": 3
   },
   "file_extension": ".py",
   "mimetype": "text/x-python",
   "name": "python",
   "nbconvert_exporter": "python",
   "pygments_lexer": "ipython3",
   "version": "3.10.9"
  }
 },
 "nbformat": 4,
 "nbformat_minor": 5
}
